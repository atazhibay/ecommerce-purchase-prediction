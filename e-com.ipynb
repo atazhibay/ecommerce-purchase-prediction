{
 "cells": [
  {
   "cell_type": "markdown",
   "id": "ddf5db80-3709-4c62-ab08-3c54a9810706",
   "metadata": {},
   "source": [
    "# E-commerce purchase prediction"
   ]
  },
  {
   "cell_type": "code",
   "execution_count": 1,
   "id": "1a30d005-9b12-4f05-bc48-7fe947d2b5bf",
   "metadata": {},
   "outputs": [],
   "source": [
    "import pandas as pd\n",
    "import numpy as np\n",
    "import seaborn as sns\n",
    "import matplotlib.pyplot as plt\n",
    "from sklearn.model_selection import train_test_split\n",
    "from sklearn.preprocessing import OneHotEncoder, StandardScaler, PolynomialFeatures\n",
    "from sklearn.compose import ColumnTransformer\n",
    "from sklearn.pipeline import Pipeline\n",
    "from sklearn.ensemble import RandomForestClassifier\n",
    "from sklearn.linear_model import LogisticRegression\n",
    "from sklearn.metrics import classification_report, confusion_matrix, roc_auc_score, roc_curve, accuracy_score, f1_score, ConfusionMatrixDisplay\n",
    "from xgboost import XGBClassifier\n",
    "from sklearn.model_selection import GridSearchCV"
   ]
  },
  {
   "cell_type": "code",
   "execution_count": null,
   "id": "3f880185-5e82-4b19-94c0-e3043b4ac7f0",
   "metadata": {},
   "outputs": [],
   "source": []
  },
  {
   "cell_type": "code",
   "execution_count": 2,
   "id": "d8622d85-5ded-4e70-b6ce-619686cfd785",
   "metadata": {},
   "outputs": [],
   "source": [
    "df = pd.read_csv('ecommerce_behavior.csv')\n",
    "\n",
    "df['view_to_cart_ratio'] = df['cart_adds'] / (df['views'] + 1)\n",
    "df['price_discounted'] = df['price'] * (1 - df['discount'])\n",
    "df['expensive'] = (df['price'] > 500).astype(str)\n",
    "df['is_mobile'] = (df['device'] == 'Mobile').astype(str)"
   ]
  },
  {
   "cell_type": "code",
   "execution_count": 3,
   "id": "6e6d0435-10c8-4017-bbad-56987744ce85",
   "metadata": {},
   "outputs": [
    {
     "data": {
      "text/html": [
       "<div>\n",
       "<style scoped>\n",
       "    .dataframe tbody tr th:only-of-type {\n",
       "        vertical-align: middle;\n",
       "    }\n",
       "\n",
       "    .dataframe tbody tr th {\n",
       "        vertical-align: top;\n",
       "    }\n",
       "\n",
       "    .dataframe thead th {\n",
       "        text-align: right;\n",
       "    }\n",
       "</style>\n",
       "<table border=\"1\" class=\"dataframe\">\n",
       "  <thead>\n",
       "    <tr style=\"text-align: right;\">\n",
       "      <th></th>\n",
       "      <th>price</th>\n",
       "      <th>discount</th>\n",
       "      <th>views</th>\n",
       "      <th>cart_adds</th>\n",
       "      <th>rating</th>\n",
       "      <th>purchased</th>\n",
       "      <th>view_to_cart_ratio</th>\n",
       "      <th>price_discounted</th>\n",
       "    </tr>\n",
       "  </thead>\n",
       "  <tbody>\n",
       "    <tr>\n",
       "      <th>count</th>\n",
       "      <td>5000.000000</td>\n",
       "      <td>5000.000000</td>\n",
       "      <td>5000.000000</td>\n",
       "      <td>5000.000000</td>\n",
       "      <td>5000.000000</td>\n",
       "      <td>5000.000000</td>\n",
       "      <td>5000.000000</td>\n",
       "      <td>5000.000000</td>\n",
       "    </tr>\n",
       "    <tr>\n",
       "      <th>mean</th>\n",
       "      <td>493.200916</td>\n",
       "      <td>0.251898</td>\n",
       "      <td>2.991200</td>\n",
       "      <td>0.911000</td>\n",
       "      <td>3.748300</td>\n",
       "      <td>0.319800</td>\n",
       "      <td>0.206754</td>\n",
       "      <td>369.442563</td>\n",
       "    </tr>\n",
       "    <tr>\n",
       "      <th>std</th>\n",
       "      <td>287.392505</td>\n",
       "      <td>0.144912</td>\n",
       "      <td>1.731162</td>\n",
       "      <td>0.959616</td>\n",
       "      <td>0.715083</td>\n",
       "      <td>0.466446</td>\n",
       "      <td>0.203874</td>\n",
       "      <td>231.930928</td>\n",
       "    </tr>\n",
       "    <tr>\n",
       "      <th>min</th>\n",
       "      <td>5.010000</td>\n",
       "      <td>0.000000</td>\n",
       "      <td>0.000000</td>\n",
       "      <td>0.000000</td>\n",
       "      <td>2.500000</td>\n",
       "      <td>0.000000</td>\n",
       "      <td>0.000000</td>\n",
       "      <td>2.754000</td>\n",
       "    </tr>\n",
       "    <tr>\n",
       "      <th>25%</th>\n",
       "      <td>239.292500</td>\n",
       "      <td>0.130000</td>\n",
       "      <td>2.000000</td>\n",
       "      <td>0.000000</td>\n",
       "      <td>3.100000</td>\n",
       "      <td>0.000000</td>\n",
       "      <td>0.000000</td>\n",
       "      <td>173.981425</td>\n",
       "    </tr>\n",
       "    <tr>\n",
       "      <th>50%</th>\n",
       "      <td>490.775000</td>\n",
       "      <td>0.250000</td>\n",
       "      <td>3.000000</td>\n",
       "      <td>1.000000</td>\n",
       "      <td>3.700000</td>\n",
       "      <td>0.000000</td>\n",
       "      <td>0.200000</td>\n",
       "      <td>350.687600</td>\n",
       "    </tr>\n",
       "    <tr>\n",
       "      <th>75%</th>\n",
       "      <td>739.932500</td>\n",
       "      <td>0.380000</td>\n",
       "      <td>4.000000</td>\n",
       "      <td>1.000000</td>\n",
       "      <td>4.400000</td>\n",
       "      <td>1.000000</td>\n",
       "      <td>0.333333</td>\n",
       "      <td>531.272750</td>\n",
       "    </tr>\n",
       "    <tr>\n",
       "      <th>max</th>\n",
       "      <td>999.520000</td>\n",
       "      <td>0.500000</td>\n",
       "      <td>11.000000</td>\n",
       "      <td>7.000000</td>\n",
       "      <td>5.000000</td>\n",
       "      <td>1.000000</td>\n",
       "      <td>0.857143</td>\n",
       "      <td>978.314400</td>\n",
       "    </tr>\n",
       "  </tbody>\n",
       "</table>\n",
       "</div>"
      ],
      "text/plain": [
       "             price     discount        views    cart_adds       rating  \\\n",
       "count  5000.000000  5000.000000  5000.000000  5000.000000  5000.000000   \n",
       "mean    493.200916     0.251898     2.991200     0.911000     3.748300   \n",
       "std     287.392505     0.144912     1.731162     0.959616     0.715083   \n",
       "min       5.010000     0.000000     0.000000     0.000000     2.500000   \n",
       "25%     239.292500     0.130000     2.000000     0.000000     3.100000   \n",
       "50%     490.775000     0.250000     3.000000     1.000000     3.700000   \n",
       "75%     739.932500     0.380000     4.000000     1.000000     4.400000   \n",
       "max     999.520000     0.500000    11.000000     7.000000     5.000000   \n",
       "\n",
       "         purchased  view_to_cart_ratio  price_discounted  \n",
       "count  5000.000000         5000.000000       5000.000000  \n",
       "mean      0.319800            0.206754        369.442563  \n",
       "std       0.466446            0.203874        231.930928  \n",
       "min       0.000000            0.000000          2.754000  \n",
       "25%       0.000000            0.000000        173.981425  \n",
       "50%       0.000000            0.200000        350.687600  \n",
       "75%       1.000000            0.333333        531.272750  \n",
       "max       1.000000            0.857143        978.314400  "
      ]
     },
     "execution_count": 3,
     "metadata": {},
     "output_type": "execute_result"
    }
   ],
   "source": [
    "df.describe()"
   ]
  },
  {
   "cell_type": "code",
   "execution_count": 4,
   "id": "89bdb1aa-386b-49b2-a514-61dd1855a2b9",
   "metadata": {},
   "outputs": [
    {
     "data": {
      "text/plain": [
       "purchased\n",
       "0    0.6802\n",
       "1    0.3198\n",
       "Name: proportion, dtype: float64"
      ]
     },
     "execution_count": 4,
     "metadata": {},
     "output_type": "execute_result"
    }
   ],
   "source": [
    "# Here we see that dataset is imbalanced\n",
    "df['purchased'].value_counts(normalize=True)"
   ]
  },
  {
   "cell_type": "code",
   "execution_count": 5,
   "id": "857e894c-51b7-440f-a32f-9cbbc3d8efab",
   "metadata": {},
   "outputs": [],
   "source": [
    "X = df.drop('purchased', axis=1)\n",
    "y = df['purchased']\n",
    "\n",
    "X_train, X_test, y_train, y_test = train_test_split(X, y, test_size=0.2, stratify=y, random_state=42)"
   ]
  },
  {
   "cell_type": "code",
   "execution_count": 6,
   "id": "ffcd6eea-1dbf-4514-b1e2-d7c6deb7fdea",
   "metadata": {},
   "outputs": [],
   "source": [
    "num_features = X.select_dtypes(include=['int64','float64']).columns\n",
    "cat_features = X.select_dtypes(include=['object']).columns\n",
    "\n",
    "num_transformer_poly = Pipeline(steps=[\n",
    "    ('poly', PolynomialFeatures(degree=2, interaction_only=True, include_bias=False)),\n",
    "    ('scaler', StandardScaler())\n",
    "])\n",
    "\n",
    "cat_transformer = Pipeline(steps=[\n",
    "    ('encoder', OneHotEncoder(handle_unknown='ignore'))\n",
    "])\n",
    "\n",
    "# Creating preprocessor for Logistic Regression with PolymonailFeatures\n",
    "preprocessor_with_poly = ColumnTransformer(transformers=[\n",
    "    ('num', num_transformer_poly, num_features),\n",
    "    ('cat', cat_transformer, cat_features)\n",
    "])\n",
    "\n",
    "\n",
    "num_transformer_plain = Pipeline(steps=[\n",
    "    ('scaler', StandardScaler())\n",
    "])\n",
    "\n",
    "# Creating preprocessor for other models without PolymonailFeatures\n",
    "preprocessor_no_poly = ColumnTransformer(transformers=[\n",
    "    ('num', num_transformer_plain, num_features),\n",
    "    ('cat', cat_transformer, cat_features)\n",
    "])\n"
   ]
  },
  {
   "cell_type": "code",
   "execution_count": 7,
   "id": "77dbcbd2-6031-442a-8d12-90d26bf8f4cc",
   "metadata": {},
   "outputs": [],
   "source": [
    "best_model = []"
   ]
  },
  {
   "cell_type": "code",
   "execution_count": 8,
   "id": "3fb35376-042e-4b0c-a9c5-db21fd1c8c8e",
   "metadata": {},
   "outputs": [
    {
     "name": "stdout",
     "output_type": "stream",
     "text": [
      "Fitting 5 folds for each of 14 candidates, totalling 70 fits\n"
     ]
    }
   ],
   "source": [
    "# Searching for the best parameters for Log Regression\n",
    "param_grid_log_reg = {\n",
    "    'classifier__C': [0.01, 0.1, 0.3, 0.5, 0.8, 1, 10],\n",
    "    'classifier__penalty': ['l1', 'l2']\n",
    "}\n",
    "\n",
    "pipe_logreg = Pipeline(steps=[\n",
    "    ('preprocessor', preprocessor_with_poly),\n",
    "    ('classifier', LogisticRegression(solver='liblinear'))\n",
    "])\n",
    "\n",
    "grid_search_logreg = GridSearchCV(\n",
    "    pipe_logreg,\n",
    "    param_grid_log_reg,\n",
    "    cv=5,\n",
    "    scoring='roc_auc',\n",
    "    verbose=1,\n",
    "    n_jobs=-1\n",
    ")\n",
    "\n",
    "grid_search_logreg.fit(X_train, y_train)\n",
    "\n",
    "# Creating Log Regression with best params\n",
    "best_logreg_model = grid_search_logreg.best_estimator_\n",
    "\n",
    "y_pred_log = best_logreg_model.predict(X_test)\n",
    "y_proba_log = best_logreg_model.predict_proba(X_test)[:, 1]\n",
    "\n",
    "f1 = f1_score(y_test, y_pred_log)\n",
    "roc_auc = roc_auc_score(y_test, y_proba_log)\n",
    "\n",
    "best_model.append({\n",
    "    'model': 'Logistic Regression',\n",
    "    'f1_score': round(f1, 3),\n",
    "    'roc_auc':round(roc_auc, 3)\n",
    "}\n",
    ")"
   ]
  },
  {
   "cell_type": "code",
   "execution_count": 9,
   "id": "abef6df4-c45a-41a5-bcfd-5fe9043f2e22",
   "metadata": {},
   "outputs": [
    {
     "name": "stdout",
     "output_type": "stream",
     "text": [
      "Fitting 5 folds for each of 24 candidates, totalling 120 fits\n"
     ]
    }
   ],
   "source": [
    "# Searching for the best parameters for Random Forest\n",
    "param_grid_rf = {\n",
    "    'classifier__n_estimators': [100, 200],\n",
    "    'classifier__max_depth': [None, 5, 10],\n",
    "    'classifier__min_samples_split': [2, 5],\n",
    "    'classifier__min_samples_leaf': [1, 3]\n",
    "}\n",
    "\n",
    "pipe_rf = Pipeline(steps=[\n",
    "    ('preprocessor', preprocessor_no_poly),\n",
    "    ('classifier', RandomForestClassifier(random_state=42))\n",
    "])\n",
    "\n",
    "grid_search_rf = GridSearchCV(\n",
    "    pipe_rf,\n",
    "    param_grid_rf,\n",
    "    cv=5,\n",
    "    scoring='roc_auc',\n",
    "    verbose=1,\n",
    "    n_jobs=-1\n",
    ")\n",
    "\n",
    "grid_search_rf.fit(X_train, y_train)\n",
    "\n",
    "# Creating Random Forest with best params\n",
    "best_rf_model = grid_search_rf.best_estimator_\n",
    "\n",
    "y_pred_rf = best_rf_model.predict(X_test)\n",
    "y_proba_rf = best_rf_model.predict_proba(X_test)[:, 1]\n",
    "\n",
    "f1 = f1_score(y_test, y_pred_rf)\n",
    "roc_auc = roc_auc_score(y_test, y_proba_rf)\n",
    "\n",
    "best_model.append({\n",
    "    'model': 'Random Forest',\n",
    "    'f1_score': round(f1, 3),\n",
    "    'roc_auc':round(roc_auc, 3)\n",
    "}\n",
    ")\n"
   ]
  },
  {
   "cell_type": "code",
   "execution_count": 10,
   "id": "9131817f-6f56-4273-a5a0-62f0e944fd7b",
   "metadata": {
    "scrolled": true
   },
   "outputs": [
    {
     "name": "stdout",
     "output_type": "stream",
     "text": [
      "Fitting 5 folds for each of 16 candidates, totalling 80 fits\n"
     ]
    }
   ],
   "source": [
    "# Searching for the best parameters for XGBoost\n",
    "param_grid_xgb = {\n",
    "    'classifier__n_estimators': [100, 200],\n",
    "    'classifier__max_depth': [3, 6],\n",
    "    'classifier__learning_rate': [0.01, 0.1],\n",
    "    'classifier__subsample': [0.8, 1.0]\n",
    "}\n",
    "\n",
    "pipe_xgb = Pipeline(steps=[\n",
    "    ('preprocessor', preprocessor_no_poly),\n",
    "    ('classifier', XGBClassifier(eval_metric='logloss'))\n",
    "])\n",
    "\n",
    "grid_search_xgb = GridSearchCV(\n",
    "    pipe_xgb,\n",
    "    param_grid_xgb,\n",
    "    cv=5,\n",
    "    scoring='roc_auc',\n",
    "    verbose=1,\n",
    "    n_jobs=-1\n",
    ")\n",
    "\n",
    "grid_search_xgb.fit(X_train, y_train)\n",
    "\n",
    "# Creating Random Forest with best params\n",
    "best_xgb_model = grid_search_xgb.best_estimator_\n",
    "\n",
    "y_pred_xgb = best_xgb_model.predict(X_test)\n",
    "y_proba_xgb = best_xgb_model.predict_proba(X_test)[:, 1]\n",
    "\n",
    "f1 = f1_score(y_test, y_pred_xgb)\n",
    "roc_auc = roc_auc_score(y_test, y_proba_xgb)\n",
    "\n",
    "best_model.append({\n",
    "    'model': 'XGB',\n",
    "    'f1_score': round(f1, 3),\n",
    "    'roc_auc':round(roc_auc, 3)\n",
    "}\n",
    ")"
   ]
  },
  {
   "cell_type": "code",
   "execution_count": 11,
   "id": "04ec7a44-d0b4-43f6-a76c-18c31fe36b21",
   "metadata": {},
   "outputs": [
    {
     "data": {
      "text/html": [
       "<div>\n",
       "<style scoped>\n",
       "    .dataframe tbody tr th:only-of-type {\n",
       "        vertical-align: middle;\n",
       "    }\n",
       "\n",
       "    .dataframe tbody tr th {\n",
       "        vertical-align: top;\n",
       "    }\n",
       "\n",
       "    .dataframe thead th {\n",
       "        text-align: right;\n",
       "    }\n",
       "</style>\n",
       "<table border=\"1\" class=\"dataframe\">\n",
       "  <thead>\n",
       "    <tr style=\"text-align: right;\">\n",
       "      <th></th>\n",
       "      <th>model</th>\n",
       "      <th>f1_score</th>\n",
       "      <th>roc_auc</th>\n",
       "    </tr>\n",
       "  </thead>\n",
       "  <tbody>\n",
       "    <tr>\n",
       "      <th>0</th>\n",
       "      <td>Logistic Regression</td>\n",
       "      <td>0.320</td>\n",
       "      <td>0.707</td>\n",
       "    </tr>\n",
       "    <tr>\n",
       "      <th>1</th>\n",
       "      <td>Random Forest</td>\n",
       "      <td>0.151</td>\n",
       "      <td>0.712</td>\n",
       "    </tr>\n",
       "    <tr>\n",
       "      <th>2</th>\n",
       "      <td>XGB</td>\n",
       "      <td>0.201</td>\n",
       "      <td>0.723</td>\n",
       "    </tr>\n",
       "  </tbody>\n",
       "</table>\n",
       "</div>"
      ],
      "text/plain": [
       "                 model  f1_score  roc_auc\n",
       "0  Logistic Regression     0.320    0.707\n",
       "1        Random Forest     0.151    0.712\n",
       "2                  XGB     0.201    0.723"
      ]
     },
     "execution_count": 11,
     "metadata": {},
     "output_type": "execute_result"
    }
   ],
   "source": [
    "# Comparing the results of models\n",
    "result = pd.DataFrame(best_model)\n",
    "result"
   ]
  },
  {
   "cell_type": "markdown",
   "id": "1971ff18-85d4-4112-9808-fd21538ccb9e",
   "metadata": {},
   "source": [
    "**Logistic Regression shows the best result based on the evaluation. ROC AUC 0.7 means that the model distinguishes well between users who make purchases and** \n",
    "**those who do not.**\n",
    "**Considering that the data is unbalanced, F1 shows an acceptable result. The model correctly guesses 1 out of 3.**"
   ]
  },
  {
   "cell_type": "code",
   "execution_count": 36,
   "id": "0854a6a8-e4ae-429a-8b13-ae73e221412a",
   "metadata": {},
   "outputs": [
    {
     "data": {
      "image/png": "[encoded data removed]",
      "text/plain": [
       "<Figure size 600x500 with 1 Axes>"
      ]
     },
     "metadata": {},
     "output_type": "display_data"
    }
   ],
   "source": [
    "fpr, tpr, thresholds = roc_curve(y_test, y_proba_log)\n",
    "plt.figure(figsize=(6, 5))\n",
    "plt.plot(fpr, tpr, label=f\"ROC AUC = {roc_auc_score(y_test, y_proba_log):.3f}\")\n",
    "plt.plot([0, 1], [0, 1], linestyle=\"--\", color=\"gray\")\n",
    "plt.xlabel(\"False Positive Rate\")\n",
    "plt.ylabel(\"True Positive Rate\")\n",
    "plt.title(\"ROC Curve — Logistic Regression\")\n",
    "plt.legend()\n",
    "plt.grid()\n",
    "plt.tight_layout()\n",
    "plt.show()"
   ]
  },
  {
   "cell_type": "code",
   "execution_count": 37,
   "id": "d14f230d-69b2-40b3-afdc-96db543089fa",
   "metadata": {},
   "outputs": [
    {
     "data": {
      "image/png": "[encoded data removed]",
      "text/plain": [
       "<Figure size 640x480 with 2 Axes>"
      ]
     },
     "metadata": {},
     "output_type": "display_data"
    }
   ],
   "source": [
    "conf_matrix = confusion_matrix(y_test, y_pred_log)\n",
    "disp = ConfusionMatrixDisplay(confusion_matrix=conf_matrix)\n",
    "disp.plot(cmap=\"Blues\", values_format=\"d\")\n",
    "plt.title(\"Confusion Matrix — Logistic Regression\")\n",
    "plt.grid(False)\n",
    "plt.tight_layout()\n",
    "plt.show()"
   ]
  },
  {
   "cell_type": "code",
   "execution_count": null,
   "id": "efc4e14a-2c11-46c4-b7d8-3ad3d658e7d6",
   "metadata": {},
   "outputs": [],
   "source": []
  },
  {
   "cell_type": "code",
   "execution_count": null,
   "id": "7d77791f-916e-4616-9924-6c5c56a18950",
   "metadata": {},
   "outputs": [],
   "source": []
  },
  {
   "cell_type": "code",
   "execution_count": null,
   "id": "befcebdf-9148-42e7-824f-d4c7568de35b",
   "metadata": {},
   "outputs": [],
   "source": []
  }
 ],
 "metadata": {
  "kernelspec": {
   "display_name": "Python 3 (ipykernel)",
   "language": "python",
   "name": "python3"
  },
  "language_info": {
   "codemirror_mode": {
    "name": "ipython",
    "version": 3
   },
   "file_extension": ".py",
   "mimetype": "text/x-python",
   "name": "python",
   "nbconvert_exporter": "python",
   "pygments_lexer": "ipython3",
   "version": "3.12.10"
  }
 },
 "nbformat": 4,
 "nbformat_minor": 5
}
